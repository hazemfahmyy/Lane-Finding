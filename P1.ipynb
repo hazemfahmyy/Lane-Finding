{
 "cells": [
  {
   "cell_type": "code",
   "execution_count": null,
   "id": "f862193f-7bc2-43b7-a7b9-927068d75294",
   "metadata": {},
   "outputs": [],
   "source": [
    "This project performs ..."
   ]
  },
  {
   "cell_type": "code",
   "execution_count": null,
   "id": "5e5274be-6864-4575-b504-16605e7d71a4",
   "metadata": {},
   "outputs": [],
   "source": [
    "import numpy as np\n",
    "import matplotlib.pyplot as plt\n",
    "from matplotlib import image as mpimg\n",
    "import cv2\n",
    "import os, glob\n",
    "import math\n",
    "from sklearn import linear_model\n",
    "%matplotlib inline\n",
    "%config InlineBackend.figure_format = 'retina'"
   ]
  },
  {
   "cell_type": "code",
   "execution_count": null,
   "id": "314cb469-bfeb-492f-96fc-7b8715fbcfc4",
   "metadata": {},
   "outputs": [],
   "source": [
    "def read_img(img_path):\n",
    "    return mpimg.imread(img_path)\n",
    "\n",
    "def show_images(images, cmap=None):\n",
    "    cols = 2\n",
    "    rows = (len(images) + 1)//cols\n",
    "    \n",
    "    plt.figure(figsize=(10,11))\n",
    "    for i, image in enumerate(images):\n",
    "        plt.subplot(rows, cols, i+1)\n",
    "        # use gray scale color map if there is only one channel\n",
    "        cmap = 'gray' if len(image.shape)==2 else cmap\n",
    "        plt.imshow(image, cmap=cmap)\n",
    "        plt.xticks([])\n",
    "        plt.yticks([])\n",
    "        \n",
    "    plt.tight_layout(pad=0, h_pad=0, w_pad=0)\n",
    "    \n",
    "    plt.show()\n",
    "    \n",
    "    \n",
    "\n",
    "def save_images(images,name):\n",
    "    return plt.savefig(\"/test_images_output\"+ name,images,cmap=None)"
   ]
  },
  {
   "cell_type": "code",
   "execution_count": null,
   "id": "9a298383-5c6a-42f9-a526-0fcc5261811a",
   "metadata": {},
   "outputs": [],
   "source": [
    "timg = [read_img(\"test_images/\" + i) for i in os.listdir(\"test_images/\")]\n",
    "test_images = [plt.imread(path) for path in glob.glob('test_images/*.jpg')]\n",
    "show_images(test_images)"
   ]
  },
  {
   "cell_type": "code",
   "execution_count": null,
   "id": "391372eb-124e-43a1-9d08-d0d9b50472ad",
   "metadata": {},
   "outputs": [],
   "source": [
    "def hsl_image(img):\n",
    "    return cv2.cvtColor(img,cv2.COLOR_RGB2HLS)\n",
    "\n",
    "def convert_gray_scale(img):\n",
    "    return cv2.cvtColor(img, cv2.COLOR_RGB2GRAY)\n",
    "\n",
    "def filter_color(img):\n",
    "    converted = hsl_image(img)\n",
    "    w_min =np.uint8([0,200,0])\n",
    "    w_max = np.uint8([255,255,255])\n",
    "    w_mask = cv2.inRange(converted,w_min,w_max)\n",
    "    y_min =np.uint8([10,0,100])\n",
    "    y_max = np.uint8([40,255,255])\n",
    "    y_mask = cv2.inRange(converted,y_min,y_max)\n",
    "    \n",
    "    masked = cv2.bitwise_or(w_mask,y_mask)\n",
    "    \n",
    "    image = cv2.bitwise_and(img,img,mask=masked)\n",
    "    return image\n",
    "\n",
    "def apply_smoothing(img, kernel_size=15):\n",
    "    \"\"\"\n",
    "    size of the kernel must be positie and odd\n",
    "    \"\"\"\n",
    "    return cv2.GaussianBlur(img, (kernel_size, kernel_size), 0)\n",
    "\n",
    "def detect_edges(image, low_threshold=50, high_threshold=150):\n",
    "    return cv2.Canny(image, low_threshold, high_threshold)\n",
    "\n",
    "def filter_region(image, vertices):\n",
    "    \"\"\"\n",
    "    Create the mask using the vertices and apply it to the input image\n",
    "    \"\"\"\n",
    "    mask = np.zeros_like(image)\n",
    "    if len(mask.shape)==2:\n",
    "        cv2.fillPoly(mask, vertices, 255)\n",
    "    else:\n",
    "        cv2.fillPoly(mask, vertices, (255,)*mask.shape[2]) # in case, the input image has a channel dimension        \n",
    "    return cv2.bitwise_and(image, mask)\n",
    "\n",
    "def select_region(image):\n",
    "    \"\"\"\n",
    "    It keeps the region surrounded by the `vertices` (i.e. polygon).  Other area is set to 0 (black).\n",
    "    \"\"\"\n",
    "    # first, define the polygon by vertices\n",
    "    rows, cols = image.shape[:2]\n",
    "    bottom_left  = [cols*0.1, rows*0.95]\n",
    "    top_left     = [cols*0.4, rows*0.6]\n",
    "    bottom_right = [cols*0.9, rows*0.95]\n",
    "    top_right    = [cols*0.6, rows*0.6] \n",
    "    # the vertices are an array of polygons (i.e array of arrays) and the data type must be integer\n",
    "    vertices = np.array([[bottom_left, top_left, top_right, bottom_right]], dtype=np.int32)\n",
    "    return filter_region(image, vertices)\n",
    "\n",
    "def hough_lines(image):\n",
    "    \"\"\"\n",
    "    `image` should be the output of a Canny transform.\n",
    "    \n",
    "    Returns hough lines (not the image with lines)\n",
    "    \"\"\"\n",
    "    return cv2.HoughLinesP(image, rho=1, theta=np.pi/180, threshold=20, minLineLength=20, maxLineGap=300)\n",
    "\n",
    "def average_slope_intercept(lines):\n",
    "    left_lines=[]\n",
    "    right_lines=[]\n",
    "    left_line_weights=[]\n",
    "    right_line_weights=[]\n",
    "    \n",
    "    for line in lines:\n",
    "        for x1,y1,x2,y2 in line:\n",
    "            if x2==x1:\n",
    "                continue\n",
    "            slope = (y2-y1)/(x2-x1)\n",
    "            intercept =y1 - slope * x1\n",
    "            length = np.sqrt((y2-y1)**2 + (x2-x1)**2)\n",
    "            \n",
    "            if slope < 0:\n",
    "                left_lines.append((slope,intercept))\n",
    "                left_line_weights.append((length))\n",
    "            else:\n",
    "                right_lines.append((slope,intercept))\n",
    "                right_line_weights.append((length))\n",
    "    \n",
    "    left_lane = np.dot(left_line_weights,left_lines) /np.sum(left_line_weights) if len(left_line_weights) > 0 else None\n",
    "    right_lane = np.dot(right_line_weights,right_lines) /np.sum(right_line_weights) if len(right_line_weights) > 0 else None\n",
    "    \n",
    "    \n",
    "    return left_lane,right_lane\n",
    "\n",
    "def convert_line_to_points(y1,y2,line):\n",
    "    if line is None:\n",
    "        return None\n",
    "    \n",
    "    slope,intercept = line\n",
    "    \n",
    "    x1 = int((y1-intercept)/slope)\n",
    "    x2 = int((y2-intercept)/slope)\n",
    "    y1 = int(y1)\n",
    "    y2 = int(y2)\n",
    "    \n",
    "    return ((x1,y1) , (x2,y2))\n",
    "\n",
    "def lanes(image,lines):\n",
    "    left_lane,right_lane = average_slope_intercept(lines)\n",
    "    y1=image.shape[0]\n",
    "    y2=y1 * 0.65\n",
    "    \n",
    "    left_line = convert_line_to_points(y1,y2,left_lane)\n",
    "    right_line = convert_line_to_points(y1,y2,right_lane)\n",
    "    \n",
    "    return left_line,right_line"
   ]
  },
  {
   "cell_type": "code",
   "execution_count": null,
   "id": "eb59aad0-2448-4108-a53d-f26d15d91710",
   "metadata": {},
   "outputs": [],
   "source": [
    "w_y=filter_color(timg[0])\n",
    "white_yellow_filter = list(map(filter_color,test_images))\n",
    "show_images(white_yellow_filter)"
   ]
  },
  {
   "cell_type": "code",
   "execution_count": null,
   "id": "55495bc9-2064-4fc8-b156-897b0b2460fc",
   "metadata": {},
   "outputs": [],
   "source": [
    "g_i = convert_gray_scale(w_y)\n",
    "gray_images = list(map(convert_gray_scale,white_yellow_filter))\n",
    "show_images(gray_images)"
   ]
  },
  {
   "cell_type": "code",
   "execution_count": null,
   "id": "987af6cf-8271-4909-9009-4be32557468e",
   "metadata": {},
   "outputs": [],
   "source": [
    "b_i = apply_smoothing(g_i)\n",
    "blurred_images = list(map(lambda img:apply_smoothing(img),gray_images))\n",
    "show_images(blurred_images)"
   ]
  },
  {
   "cell_type": "code",
   "execution_count": null,
   "id": "7cbe6cd9-7028-4fc0-ae4a-c6bcf643aaec",
   "metadata": {},
   "outputs": [],
   "source": [
    "e_i = detect_edges(b_i)\n",
    "edge_images = list(map(lambda image: detect_edges(image), blurred_images))\n",
    "\n",
    "show_images(edge_images)"
   ]
  },
  {
   "cell_type": "code",
   "execution_count": null,
   "id": "ddf546ff-0b99-424c-98a8-dd3ad0bd4e2b",
   "metadata": {},
   "outputs": [],
   "source": [
    "r_i = select_region(e_i)\n",
    "roi_images = list(map(select_region, edge_images))\n",
    "\n",
    "show_images(roi_images)"
   ]
  },
  {
   "cell_type": "code",
   "execution_count": null,
   "id": "f311baa4-aa29-42da-8f26-e2bd667bdad8",
   "metadata": {},
   "outputs": [],
   "source": [
    "\n",
    "\n",
    "list_of_lines = list(map(hough_lines, roi_images))\n",
    "l_o_l=hough_lines(r_i)"
   ]
  },
  {
   "cell_type": "code",
   "execution_count": null,
   "id": "a8d38115-4e50-489b-b819-c3238f2cd53a",
   "metadata": {},
   "outputs": [],
   "source": [
    "def draw_lines(image, lines, color=[255, 0, 0], thickness=2, make_copy=True):\n",
    "    # the lines returned by cv2.HoughLinesP has the shape (-1, 1, 4)\n",
    "    if make_copy:\n",
    "        image = np.copy(image) # don't want to modify the original\n",
    "    for line in lines:\n",
    "        for x1,y1,x2,y2 in line:\n",
    "            cv2.line(image, (x1, y1), (x2, y2), color, thickness)\n",
    "    return image\n",
    "\n",
    "\n",
    "line_images = []\n",
    "for image, lines in zip(test_images, list_of_lines):\n",
    "    line_images.append(draw_lines(image, lines))\n",
    "    \n",
    "show_images(line_images)"
   ]
  },
  {
   "cell_type": "code",
   "execution_count": null,
   "id": "6db8d2a4-e5cd-47ec-bf7a-6f512d890b0b",
   "metadata": {},
   "outputs": [],
   "source": [
    "def draw_lines_complete(image, lines, color=[255, 0, 0], thickness=12):\n",
    "    \n",
    "    line_image = np.zeros_like(image)\n",
    "    for line in lines:\n",
    "        if line is not None:\n",
    "            cv2.line(line_image, *line,color,thickness)\n",
    "            \n",
    "    return cv2.addWeighted(image, 1.0, line_image, 0.9, 0.0)\n",
    "        \n",
    "        \n",
    "lane_images = []\n",
    "for image, lines in zip(test_images, list_of_lines):\n",
    "    lane_images.append(draw_lines_complete(image,lanes(image,lines)))\n",
    "    \n",
    "show_images(lane_images"
   ]
  },
  {
   "cell_type": "code",
   "execution_count": null,
   "id": "6a8f93ac-f684-44f8-80d1-00a62b4396f2",
   "metadata": {},
   "outputs": [],
   "source": [
    "from collections import deque\n",
    "Length = 50\n",
    "class LaneDetection:\n",
    "    def __init__(self):\n",
    "        self.left_lines = deque(maxlen=Length)\n",
    "        self.right_lines = deque(maxlen=Length)\n",
    "        \n",
    "    def process(self,image):\n",
    "        filter_colors = filter_color(image)\n",
    "        grayscale = convert_gray_scale(filter_colors)\n",
    "        smooth = apply_smoothing(grayscale)\n",
    "        canny = detect_edges(smooth)\n",
    "        regions = select_region(canny)\n",
    "        hough = hough_lines(regions)\n",
    "        left_lines,right_lines = lanes(image,hough)\n",
    "        \n",
    "        def mean_lines(line,lines):\n",
    "            if line is not None:\n",
    "                lines.append(line)\n",
    "                \n",
    "            if len(lines) > 0:\n",
    "                line = np.mean(lines,axis=0,dtype=np.int32)\n",
    "                line=tuple(map(tuple,line))\n",
    "            return line\n",
    "        \n",
    "        left_lines = mean_lines(left_lines, self.left_lines)\n",
    "        right_lines = mean_lines(right_lines,self.right_lines)\n",
    "        \n",
    "        return draw_lines_complete(image,(left_lines,right_lines))"
   ]
  },
  {
   "cell_type": "code",
   "execution_count": null,
   "id": "e8860b01-055b-490b-a6ae-526d0dfeb99c",
   "metadata": {},
   "outputs": [],
   "source": [
    "# Import everything needed to edit/save/watch video clips\n",
    "from moviepy.editor import VideoFileClip\n",
    "from IPython.display import HTML\n",
    "def process_video(video_input, video_output):\n",
    "    detector = LaneDetection()\n",
    "    clip = VideoFileClip(os.path.join('test_videos', video_input))\n",
    "    processed = clip.fl_image(detector.process)\n",
    "    processed.write_videofile(os.path.join('test_videos_output', video_output), audio=False)"
   ]
  },
  {
   "cell_type": "code",
   "execution_count": null,
   "id": "c516bd05-5666-4f0e-8881-bacbc98884e1",
   "metadata": {},
   "outputs": [],
   "source": [
    "%time process_video('solidWhiteRight.mp4','white.mp4')"
   ]
  },
  {
   "cell_type": "code",
   "execution_count": null,
   "id": "96d4d5ef-93f5-457c-93b2-1b4ea7bf6c88",
   "metadata": {},
   "outputs": [],
   "source": [
    "%time process_video('solidYellowLeft.mp4','yellow.mp4')"
   ]
  },
  {
   "cell_type": "code",
   "execution_count": null,
   "id": "f5e62e40-b193-49b9-8077-40140a651e63",
   "metadata": {},
   "outputs": [],
   "source": [
    "%time process_video('challenge.mp4','challenge.mp4')"
   ]
  }
 ],
 "metadata": {
  "kernelspec": {
   "display_name": "Python 3 (ipykernel)",
   "language": "python",
   "name": "python3"
  },
  "language_info": {
   "codemirror_mode": {
    "name": "ipython",
    "version": 3
   },
   "file_extension": ".py",
   "mimetype": "text/x-python",
   "name": "python",
   "nbconvert_exporter": "python",
   "pygments_lexer": "ipython3",
   "version": "3.7.0"
  }
 },
 "nbformat": 4,
 "nbformat_minor": 5
}
